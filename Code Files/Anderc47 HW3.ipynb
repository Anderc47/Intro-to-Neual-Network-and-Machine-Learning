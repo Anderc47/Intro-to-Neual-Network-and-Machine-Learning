{
 "cells": [
  {
   "cell_type": "code",
   "execution_count": 4,
   "metadata": {},
   "outputs": [
    {
     "name": "stdout",
     "output_type": "stream",
     "text": [
      "IMPORTED\n"
     ]
    }
   ],
   "source": [
    "import sys\n",
    "sys.path.append(\"C:\\\\Users\\\\callu\\\\.mlrefined\")\n",
    "\n",
    "import autograd.numpy as np\n",
    "import matplotlib.pyplot as plt\n",
    "from autograd import grad\n",
    "from autograd import value_and_grad\n",
    "\n",
    "from mlrefined_libraries import math_optimization_library as optlib\n",
    "static_plotter = optlib.static_plotter.Visualizer();\n",
    "\n",
    "#make the matplots sizes much larger for better readings\n",
    "plt.rcParams['figure.figsize'] = [15,10]\n",
    "\n",
    "\n",
    "print('IMPORTED')"
   ]
  },
  {
   "cell_type": "code",
   "execution_count": 5,
   "metadata": {},
   "outputs": [],
   "source": [
    "#Taken from HW2\n",
    "def gradient_descent(g,alpha,max_its,w):\n",
    "    # compute gradient module using autograd\n",
    "    gradient = value_and_grad(g)\n",
    "    \n",
    "    if alpha == 'diminishing': #check for decreasing alpha\n",
    "        alpha = 1/float(k)\n",
    "    else:\n",
    "        ()\n",
    "    \n",
    "    weight_history = [w]    \n",
    "    cost_history = [g(w)]    \n",
    "    for k in range(max_its):\n",
    "        cost_eval,grad_eval = gradient(w)\n",
    "\n",
    "        weight_history.append(w)\n",
    "        cost_history.append(cost_eval)\n",
    "        \n",
    "        w = w - alpha*grad_eval \n",
    "        \n",
    "    return weight_history,cost_history"
   ]
  },
  {
   "cell_type": "markdown",
   "metadata": {},
   "source": [
    "# Exercise 1"
   ]
  },
  {
   "cell_type": "code",
   "execution_count": 6,
   "metadata": {},
   "outputs": [],
   "source": [
    "# data input\n",
    "datapath = \"C:\\\\Users\\\\callu\\\\.mlrefined\\\\mlrefined_datasets\\\\superlearn_datasets\\\\\"\n",
    "csvname = datapath + 'breast_cancer_data.csv'\n",
    "data1 = np.loadtxt(csvname,delimiter = ',')\n",
    "\n",
    "# get input and output of dataset\n",
    "x = data1[:-1,:]\n",
    "y = data1[-1:,:] "
   ]
  },
  {
   "cell_type": "markdown",
   "metadata": {},
   "source": [
    "## 1.1) \n",
    "We now need to implement the cost functions for the softmax and perceptron. Finish the\n",
    "implementation of the perceptron below:\n"
   ]
  },
  {
   "cell_type": "code",
   "execution_count": 7,
   "metadata": {},
   "outputs": [],
   "source": [
    "# compute linear combination of input points\n",
    "def model(x,w):\n",
    "    a = w[0] + np.dot(x.T,w[1:])\n",
    "    return a.T\n",
    "\n",
    "# an implementation of the softmax cost\n",
    "def softmax(w):    \n",
    "    # compute the least squares cost\n",
    "    cost = np.sum(np.log(1 + np.exp(-y*model(x,w))))\n",
    "    return cost/float(np.size(y))\n",
    "\n",
    "# an implementation of the perceptron cost\n",
    "def perceptron(w):\n",
    "    #compute cost simalar to softmax\n",
    "    zeros = np.zeros(y.shape, dtype=float)\n",
    "    \n",
    "    #rhs of the max function\n",
    "    yxwFunc = -y * model(x , w)\n",
    "    \n",
    "    #using the summation of the max(0,y*xT*w) as seen in textbook\n",
    "    cost = np.sum(np.maximum(zeros, yxwFunc))    \n",
    "    \n",
    "    return cost/float(np.size(y))\n",
    "    "
   ]
  },
  {
   "cell_type": "markdown",
   "metadata": {},
   "source": [
    "## 1.2) \n",
    "Use gradient descent (detailed on the previous assignments) with max its=1000, and a\n",
    "random starting vector w = 0.1*np.random.randn(9,1) for both cost functions. For the per\u0002ceptron cost function use alpha = 0.1 to determine the weight and cost history. For the\n",
    "softmax use alpha = 1.0 to determine the weight and cost history.\n"
   ]
  },
  {
   "cell_type": "code",
   "execution_count": null,
   "metadata": {},
   "outputs": [],
   "source": [
    "max_its = 1000\n",
    "w = 0.1*np.random.randn(9,1)\n",
    "alpha_soft = 1\n",
    "alpha_percept = 0.1\n",
    "\n",
    "softmax_w_history, softmax_cost_history = gradient_descent(softmax,alpha_soft,max_its,w)\n",
    "perceptron_w_history, perceptron_cost_history = gradient_descent(perceptron,alpha_percept,max_its,w)"
   ]
  },
  {
   "cell_type": "markdown",
   "metadata": {},
   "source": [
    "1.3) Use the weight history to track the number of misclassifications as a function of the iterations by implementing a function miscount(w,x,y) that counts the number of misclassifications for each w such that we can easily construct a misclassfication history using the command:\n",
    "\n",
    "miscount history = [miscount(v,x,y) for v in weight history]"
   ]
  },
  {
   "cell_type": "code",
   "execution_count": null,
   "metadata": {},
   "outputs": [],
   "source": [
    "### miscounts ###\n",
    "def miscount(w,x,y):\n",
    "    \n",
    "    #finding the predicted y-value\n",
    "    prediction = model(x , w)\n",
    "    \n",
    "    #determining if it is +1 or -1\n",
    "    predicted_sign = np.sign(prediction)\n",
    "    \n",
    "    #obtaining the actual +1 or -1 value\n",
    "    actual_sign = np.sign(y)\n",
    "    \n",
    "    #sum of the miscounts accourding to the specific w\n",
    "    num_miscounts = np.sum(predicted_sign != actual_sign)\n",
    "            \n",
    "    return num_miscounts\n",
    "    "
   ]
  },
  {
   "cell_type": "code",
   "execution_count": null,
   "metadata": {},
   "outputs": [],
   "source": [
    "softmax_miscount_history = [miscount(v,x,y) for v in softmax_w_history]\n",
    "perceptron_miscount_history = [miscount(v,x,y) for v in perceptron_w_history]"
   ]
  },
  {
   "cell_type": "markdown",
   "metadata": {},
   "source": [
    "## 1.4)\n",
    "Plot the cost function history and the misclassifcation history versus the number of iterations for the 2 cost functions together. \n",
    "\n",
    "Determine the minimum number of misclassifications for the 2 cost functions. \n",
    "\n",
    "For each of the cost functions modify miscount(w,x,y) to calculate only the misclassified malignant cases."
   ]
  },
  {
   "cell_type": "code",
   "execution_count": null,
   "metadata": {},
   "outputs": [],
   "source": [
    "num_its = np.arange(0,max_its+1,1)\n",
    "\n",
    "plt.plot(num_its,softmax_cost_history)\n",
    "plt.title('Softmax Cost History')\n",
    "plt.xlabel('Iterations')\n",
    "plt.ylabel('Cost History')\n",
    "plt.show()\n",
    "\n",
    "plt.plot(num_its,softmax_miscount_history)\n",
    "plt.title('Softmax Miscount History')\n",
    "plt.xlabel('Iterations')\n",
    "plt.ylabel('Number of Miscounts')\n",
    "plt.show()\n",
    "\n",
    "plt.plot(num_its,perceptron_cost_history)\n",
    "plt.title('Perceptron Cost History')\n",
    "plt.xlabel('Iterations')\n",
    "plt.ylabel('Cost History')\n",
    "plt.show()\n",
    "\n",
    "plt.plot(num_its,perceptron_miscount_history)\n",
    "plt.title('Perceptron Miscount History')\n",
    "plt.xlabel('Iterations')\n",
    "plt.ylabel('Number of Miscounts')\n",
    "plt.show()"
   ]
  },
  {
   "cell_type": "code",
   "execution_count": null,
   "metadata": {},
   "outputs": [],
   "source": [
    "min_miscount_softmax = np.min(softmax_miscount_history)\n",
    "print('\\nminimum number of softmax miscounts:\\t',min_miscount_softmax)\n",
    "min_miscount_perceptron = np.min(perceptron_miscount_history)\n",
    "print('\\nminimum number of perceptrong miscounts:\\t',min_miscount_perceptron)"
   ]
  },
  {
   "cell_type": "code",
   "execution_count": null,
   "metadata": {},
   "outputs": [],
   "source": [
    "''' malignant miscounts \n",
    "    \n",
    "    malignant = -1\n",
    "    benign   = +1\n",
    "    \n",
    "    need to find misclassified malignant cases \n",
    "    thus need actual = -1\n",
    "    miscount = +1\n",
    "'''\n",
    "def malignant_miscount(w,x,y):\n",
    "    \n",
    "    #finding the predicted y-value\n",
    "    prediction = model(x , w)\n",
    "    \n",
    "    #determining if it is +1 or -1\n",
    "    predicted_sign = np.sign(prediction)\n",
    "    \n",
    "    #obtaining the actual +1 or -1 value\n",
    "    actual_sign = np.sign(y)\n",
    "    \n",
    "    #array of miscounts\n",
    "    miscounts = np.array(predicted_sign != actual_sign)\n",
    "\n",
    "    #array according to where malignant casses are\n",
    "    benign = np.array([actual_sign == +1])\n",
    "    \n",
    "    num_miscounts = np.sum(miscounts)\n",
    "    \n",
    "    benign_miscounts = np.sum(miscounts*benign)\n",
    "    \n",
    "    malignant_miscounts = num_miscounts - benign_miscounts\n",
    "    \n",
    "    list_m = [num_miscounts,benign_miscounts,malignant_miscounts]\n",
    "\n",
    "               \n",
    "    return malignant_miscounts"
   ]
  },
  {
   "cell_type": "code",
   "execution_count": null,
   "metadata": {},
   "outputs": [],
   "source": [
    "softmax_mal_miscount_history = [malignant_miscount(v,x,y) for v in softmax_w_history]\n",
    "perceptron_mal_miscount_history = [malignant_miscount(v,x,y) for v in perceptron_w_history]"
   ]
  },
  {
   "cell_type": "code",
   "execution_count": null,
   "metadata": {},
   "outputs": [],
   "source": [
    "\n",
    "plt.plot(num_its,softmax_mal_miscount_history)\n",
    "plt.title('Softmax Malignant Miscount History')\n",
    "plt.xlabel('Iterations')\n",
    "plt.ylabel('Number of Malignant Miscounts')\n",
    "plt.show()\n",
    "\n",
    "plt.plot(num_its,perceptron_mal_miscount_history)\n",
    "plt.title('Perceptron Malignant Miscount History')\n",
    "plt.xlabel('Iterations')\n",
    "plt.ylabel('Number of Malignant Miscounts')\n",
    "plt.show()\n"
   ]
  },
  {
   "cell_type": "markdown",
   "metadata": {},
   "source": [
    "## 1.5) \n",
    "We now want to check that we can get very similar results by directly doing a logistic\n",
    "regression on the data with a cross entropy cost. In order to do that we create a new integer\n",
    "vector yc which is equal to y except all the values of -1 in y have been replaced with a 0.\n",
    "Furthermore, note that yc has only a single index. We can do that (clumsily) using:\n",
    "\n",
    "We need yc to be integer because the cross entropy function (p. 134 in the book) has statements\n",
    "like np.argwhere(yc==0). We can the use this slightly modified version of the cross entropy\n",
    "function where we have added a L2 regularization:\n",
    "\n",
    "Using α = 0.6 and again max its=1000 along with a similar random starting vector calculate\n",
    "the weight and cost history using logistic regression with gradient descent. Use the weight\n",
    "history to calculate the number of misclassifications. In this case you will need a modified\n",
    "miscount function. How will you define a misclassification in this case ?\n",
    "\n"
   ]
  },
  {
   "cell_type": "code",
   "execution_count": 11,
   "metadata": {},
   "outputs": [
    {
     "data": {
      "image/png": "[encoded data removed]",
      "text/plain": [
       "<Figure size 1080x720 with 1 Axes>"
      ]
     },
     "metadata": {
      "needs_background": "light"
     },
     "output_type": "display_data"
    },
    {
     "data": {
      "image/png": "[encoded data removed]",
      "text/plain": [
       "<Figure size 1080x720 with 1 Axes>"
      ]
     },
     "metadata": {
      "needs_background": "light"
     },
     "output_type": "display_data"
    },
    {
     "name": "stdout",
     "output_type": "stream",
     "text": [
      "the minimum number of miscounts from the cross entropy function is:\t 0\n"
     ]
    }
   ],
   "source": [
    "# data input\n",
    "datapath = \"C:\\\\Users\\\\callu\\\\.mlrefined\\\\mlrefined_datasets\\\\superlearn_datasets\\\\\"\n",
    "csvname = datapath + 'breast_cancer_data.csv'\n",
    "data1 = np.loadtxt(csvname,delimiter = ',')\n",
    "\n",
    "# get input and output of dataset\n",
    "x = data1[:-1,:]\n",
    "y = data1[-1:,:] \n",
    "\n",
    "\n",
    "a=np.argwhere(y>0.9)\n",
    "b=np.argwhere(y<-0.9)\n",
    "yc=np.arange(699)\n",
    "\n",
    "yc[a]=1\n",
    "yc[b]=0\n",
    "\n",
    "\n",
    "\n",
    "# define sigmoid function\n",
    "def sigmoid(t):\n",
    "    return 1/(1 + np.exp(-t))\n",
    "\n",
    "# the convex cross-entropy cost function\n",
    "lam = 2*10**(-3)\n",
    "def cross_entropy(w):\n",
    "    # compute sigmoid of model\n",
    "    a = sigmoid(model(x,w))\n",
    "    \n",
    "    # compute cost of label 0 points\n",
    "    ind = np.argwhere(yc == 0)\n",
    "    cost = -np.sum(np.log(1 - a[:,ind]))\n",
    "    \n",
    "    # add cost on label 1 points\n",
    "    ind = np.argwhere(yc==1)\n",
    "    cost -= np.sum(np.log(a[:,ind]))\n",
    "    \n",
    "    # add regularizer\n",
    "    cost += lam*np.sum(w[1:]**2)\n",
    "    \n",
    "    # compute cross-entropy\n",
    "    return cost/float(np.size(yc))\n",
    "\n",
    "\n",
    "\n",
    "alpha = 0.6\n",
    "max_its = 1000\n",
    "\n",
    "#similar statring vector\n",
    "w = 0.1*np.random.randn(9,1)\n",
    "\n",
    "crossentropy_w_history, crossentropy_cost_history = gradient_descent(cross_entropy,alpha,max_its,w)\n",
    "\n",
    "\n",
    "iterations = np.arange(0,max_its+1,1)\n",
    "\n",
    "plt.plot(iterations,crossentropy_cost_history)\n",
    "#plt.plot(iterations,crossentropy_cost_history)\n",
    "plt.title('Cross Entropy Cost History')\n",
    "plt.xlabel('Iterations')\n",
    "plt.ylabel('Cost History')\n",
    "plt.show()\n",
    "\n",
    "def log_miscount(w,x,ys):\n",
    "    \n",
    "    prediction = model(x , w)\n",
    "    \n",
    "    #determining if prediction is +1 or -1\n",
    "    predicted_sign = np.sign(prediction)\n",
    "    \n",
    "    #miscounts when actual label is 0\n",
    "    ind = np.argwhere(ys == 0)\n",
    "    num_miscounts = np.sum(predicted_sign[0][ind] != -1)\n",
    "        \n",
    "    #miscounts when actual label is 1\n",
    "    ind = np.argwhere(ys == 1)\n",
    "    num_miscounts = np.sum(predicted_sign[0][ind] != +1)\n",
    "    \n",
    "            \n",
    "    return num_miscounts\n",
    "\n",
    "\n",
    "\n",
    "log_miscount_history = [log_miscount(v,x,y) for v in crossentropy_w_history]\n",
    "\n",
    "\n",
    "plt.plot(iterations,log_miscount_history)\n",
    "plt.title('Cross Entropy Miscount History')\n",
    "plt.xlabel('Iterations')\n",
    "plt.ylabel('Miscounts')\n",
    "plt.show()\n",
    "\n",
    "print('the minimum number of miscounts from the cross entropy function is:\\t',np.min(log_miscount_history));"
   ]
  },
  {
   "cell_type": "markdown",
   "metadata": {},
   "source": [
    "# Exercise 2"
   ]
  },
  {
   "cell_type": "code",
   "execution_count": null,
   "metadata": {},
   "outputs": [],
   "source": [
    "# standard normalization function - with nan checker / filler in-er\n",
    "def standard_normalizer(x):    \n",
    "    # compute the mean and standard deviation of the input\n",
    "    x_means = np.nanmean(x,axis = 1)[:,np.newaxis]\n",
    "    x_stds = np.nanstd(x,axis = 1)[:,np.newaxis]   \n",
    "\n",
    "    # check to make sure that x_stds > small threshold, for those not\n",
    "    # divide by 1 instead of original standard deviation\n",
    "    ind = np.argwhere(x_stds < 10**(-2))\n",
    "    if len(ind) > 0:\n",
    "        ind = [v[0] for v in ind] # Just keep the row index\n",
    "        adjust = np.zeros((x_stds.shape))\n",
    "        adjust[ind] = 1.0\n",
    "        x_stds += adjust\n",
    "\n",
    "    # fill in any nan values with means \n",
    "    ind = np.argwhere(np.isnan(x) == True)\n",
    "    for i in ind:\n",
    "        x[i[0],i[1]] = x_means[i[0]]\n",
    "\n",
    "    # create standard normalizer function\n",
    "    normalizer = lambda data: (data - x_means)/x_stds\n",
    "\n",
    "    # create inverse standard normalizer\n",
    "    inverse_normalizer = lambda data: data*x_stds + x_means\n",
    "\n",
    "    # return normalizer \n",
    "    return normalizer,inverse_normalizer"
   ]
  },
  {
   "cell_type": "code",
   "execution_count": null,
   "metadata": {},
   "outputs": [],
   "source": [
    "# data input\n",
    "csvname = datapath + 'spambase_data.csv'\n",
    "data = np.loadtxt(csvname,delimiter = ',')\n",
    "\n",
    "# get input and output of dataset\n",
    "x = data[:-1,:]\n",
    "y = data[-1:,:] \n",
    "normalizer,inverse_normalizer = standard_normalizer(x)\n",
    "x = normalizer(x)"
   ]
  },
  {
   "cell_type": "markdown",
   "metadata": {},
   "source": [
    "## 2.1) \n",
    "Use gradient descent (detailed on the previous assignments) with max its=1000, and a random starting vector w = 0.1*np.random.randn(N+1,1) to classify the e-mails using the softmax and perceptron cost functions. For the perceptron cost function use alpha = 0.1 to determine the weight and cost history. For the softmax use alpha = 1. to determine the\n",
    "weight and cost history. Use the weight histories to construct the miscount histories for the two cost functions and make plots of the cost function histories and miscount histories versus the iterations. Comment on your observations.\n"
   ]
  },
  {
   "cell_type": "code",
   "execution_count": null,
   "metadata": {},
   "outputs": [],
   "source": [
    "alpha = 0.1\n",
    "max_its = 1000\n",
    "N = 57\n",
    "w = 0.1*np.random.randn(N+1,1)\n",
    "\n",
    "softmax_w_history, softmax_cost_history = gradient_descent(softmax,alpha_soft,max_its,w)\n",
    "perceptron_w_history, perceptron_cost_history = gradient_descent(perceptron,alpha_percept,max_its,w)\n",
    "\n",
    "softmax_miscount_history = [miscount(v,x,y) for v in softmax_w_history]\n",
    "perceptron_miscount_history = [miscount(v,x,y) for v in perceptron_w_history]\n",
    "\n",
    "num_its = np.arange(0,max_its+1,1)\n",
    "\n",
    "plt.plot(num_its,softmax_cost_history)\n",
    "plt.title('Softmax Cost History')\n",
    "plt.xlabel('Iterations')\n",
    "plt.ylabel('Cost History')\n",
    "plt.show()\n",
    "\n",
    "plt.plot(num_its,softmax_miscount_history)\n",
    "plt.title('Softmax Miscount History')\n",
    "plt.xlabel('Iterations')\n",
    "plt.ylabel('Number of Miscounts')\n",
    "plt.show()\n",
    "\n",
    "plt.plot(num_its,perceptron_cost_history)\n",
    "plt.title('Perceptron Cost History')\n",
    "plt.xlabel('Iterations')\n",
    "plt.ylabel('Cost History')\n",
    "plt.show()\n",
    "\n",
    "plt.plot(num_its,perceptron_miscount_history)\n",
    "plt.title('Perceptron Miscount History')\n",
    "plt.xlabel('Iterations')\n",
    "plt.ylabel('Number of Miscounts')\n",
    "plt.show()"
   ]
  },
  {
   "cell_type": "markdown",
   "metadata": {},
   "source": [
    "## 2.2) \n",
    "For the two cost functions determine the smallest number of misclassifications achieved and convert it to an accuracy. Comment on your observations.\n"
   ]
  },
  {
   "cell_type": "code",
   "execution_count": null,
   "metadata": {},
   "outputs": [],
   "source": [
    "softmax_min_miscount = np.min(softmax_miscount_history)\n",
    "perceptron_min_miscount = np.min(perceptron_miscount_history)\n",
    "\n",
    "def accuracy(miscounts,y):\n",
    "    #fincing the number of labeled values\n",
    "    P = np.size(y)\n",
    "    \n",
    "    #using accuracy formula\n",
    "    accuracy = 1 - (miscounts/P)\n",
    "    \n",
    "    return accuracy\n",
    "    \n",
    "print('\\nminimum number of softmax miscounts:\\t',softmax_min_miscount)\n",
    "softmax_accuracy = accuracy(softmax_min_miscount,y)\n",
    "print('the accracy of the softmax function',softmax_accuracy)\n",
    "\n",
    "print('\\nminimum number of perceptrong miscounts:\\t',perceptron_min_miscount)\n",
    "perceptron_accuracy = accuracy(perceptron_min_miscount,y)\n",
    "print('the accracy of the perceptron function',perceptron_accuracy)\n"
   ]
  },
  {
   "cell_type": "markdown",
   "metadata": {},
   "source": [
    "## 2.3)\n",
    "For the softmax results determine the best w and construct the confusion matrix."
   ]
  },
  {
   "cell_type": "code",
   "execution_count": null,
   "metadata": {},
   "outputs": [],
   "source": [
    "#confusion matrix\n",
    "\n",
    "def best_wieght(miscount_history):\n",
    "    \n",
    "    #finding the indes where the miscount is the lowest\n",
    "    index = np.where(miscount_history == np.min(miscount_history))\n",
    "    \n",
    "    return index[0][0]\n",
    "\n",
    "\n",
    "def confusion_matrix(ws,xs,ys,index):\n",
    "    \n",
    "    prediction = model(xs , ws[index])\n",
    "    \n",
    "    predicted_label = np.sign(prediction)\n",
    "    \n",
    "    actual_label = np.sign(ys)\n",
    "    \n",
    "    #creating variables for the confusion matrix\n",
    "    A = 0\n",
    "    B = 0\n",
    "    C = 0\n",
    "    D = 0\n",
    "    \n",
    "    for i in range(len(ys.T)):\n",
    "        #calculatinc A where the prediction is +1 & actual is +1\n",
    "        if(predicted_label[-1][i] == +1 and actual_label[-1][i] == +1):\n",
    "            A += 1\n",
    "        \n",
    "        #calculatinc B where the prediction is -1 & actual is +1\n",
    "        elif(predicted_label[-1][i] == -1 and actual_label[-1][i] == +1):\n",
    "            B += 1\n",
    "        \n",
    "        #calculatinc C where the prediction is +1 & actual is +1\n",
    "        elif(predicted_label[-1][i] == +1 and actual_label[-1][i] == -1):\n",
    "            C += 1\n",
    "        \n",
    "        #calculatinc D where the prediction is +1 & actual is -1\n",
    "        else:\n",
    "            D +=1\n",
    "            \n",
    "    confusion_matrix = np.array([[A,B],[C,D]])\n",
    "    \n",
    "    return confusion_matrix\n",
    "\n",
    "\n",
    "    \n"
   ]
  },
  {
   "cell_type": "code",
   "execution_count": null,
   "metadata": {},
   "outputs": [],
   "source": [
    "index_softmax = best_wieght(softmax_w_history)\n",
    "print('The best sofmax wieght occurs at the index of wieght history of:\\t', index_softmax)\n",
    "\n",
    "softmax_confusion = confusion_matrix(softmax_w_history,x,y,index_softmax)\n",
    "print('\\nThe confusion maxtrix of the softmax function:\\n',softmax_confusion)"
   ]
  },
  {
   "cell_type": "code",
   "execution_count": null,
   "metadata": {},
   "outputs": [],
   "source": [
    "def balanced_accuracy(confusion_matrix):\n",
    "    #extracting components from confusin matrix\n",
    "    A = confusion_matrix[0][0]\n",
    "    B = confusion_matrix[0][1]\n",
    "    C = confusion_matrix[1][0]\n",
    "    D = confusion_matrix[1][1]\n",
    "    \n",
    "    #calculating the balanced accuracy\n",
    "    balanced_accuracy = (1/2*(A/(A+C)))+(1/2*(D/(B+D)))\n",
    "    \n",
    "    return balanced_accuracy\n",
    "\n",
    "b_acc_soft = balanced_accuracy(softmax_confusion)\n",
    "\n",
    "print('the balanced accuracy is:\\t',b_acc_soft)\n",
    "\n",
    "\n"
   ]
  },
  {
   "cell_type": "markdown",
   "metadata": {},
   "source": [
    "# Exercise 3"
   ]
  },
  {
   "cell_type": "code",
   "execution_count": null,
   "metadata": {},
   "outputs": [],
   "source": [
    "# standard normalization function - with nan checker / filler in-er\n",
    "def standard_normalizer(x):    \n",
    "    # compute the mean and standard deviation of the input\n",
    "    x_means = np.nanmean(x,axis = 1)[:,np.newaxis]\n",
    "    x_stds = np.nanstd(x,axis = 1)[:,np.newaxis]   \n",
    "\n",
    "    # check to make sure that x_stds > small threshold, for those not\n",
    "    # divide by 1 instead of original standard deviation\n",
    "    ind = np.argwhere(x_stds < 10**(-2))\n",
    "    if len(ind) > 0:\n",
    "        ind = [v[0] for v in ind] # Just keep the row index\n",
    "        adjust = np.zeros((x_stds.shape))\n",
    "        adjust[ind] = 1.0\n",
    "        x_stds += adjust\n",
    "\n",
    "    # fill in any nan values with means \n",
    "    ind = np.argwhere(np.isnan(x) == True)\n",
    "    for i in ind:\n",
    "        x[i[0],i[1]] = x_means[i[0]]\n",
    "\n",
    "    # create standard normalizer function\n",
    "    normalizer = lambda data: (data - x_means)/x_stds\n",
    "\n",
    "    # create inverse standard normalizer\n",
    "    inverse_normalizer = lambda data: data*x_stds + x_means\n",
    "\n",
    "    # return normalizer \n",
    "    return normalizer,inverse_normalizer"
   ]
  },
  {
   "cell_type": "markdown",
   "metadata": {},
   "source": [
    "## 3.1) \n",
    "As in the previous exercise it is difficult to compare the importance of the different features\n",
    "and it therefore makes sense to standard normalize. Perform a standard normalization of the\n",
    "input data.\n"
   ]
  },
  {
   "cell_type": "code",
   "execution_count": null,
   "metadata": {},
   "outputs": [],
   "source": [
    "# load in dataset\n",
    "csvname = datapath + 'credit_dataset.csv'\n",
    "data = np.loadtxt(csvname,delimiter = ',')\n",
    "x = data[:-1,:]\n",
    "y = data[-1:,:]\n",
    "\n",
    "normalizer,inverse_normalizer = standard_normalizer(x)\n",
    "x = normalizer(x)"
   ]
  },
  {
   "cell_type": "markdown",
   "metadata": {},
   "source": [
    "## 3.2) \n",
    "Use the perceptron cost function to fit a model using gradient descent with max its=1000,\n",
    "and a random starting vector w = 0.1*np.random.randn(N+1,1) and alpha = 0.1. Plot the\n",
    "cost function history along with the misclassification history versus the number of iterations.\n",
    "Can you achieve the 75% accuracy mentioned in the book ?"
   ]
  },
  {
   "cell_type": "code",
   "execution_count": null,
   "metadata": {},
   "outputs": [],
   "source": [
    "max_its = 1000\n",
    "N=20\n",
    "w = 0.1*np.random.randn(N+1,1)\n",
    "alpha = 0.1\n",
    "\n",
    "perceptron_w_history, perceptron_cost_history = gradient_descent(perceptron,alpha,max_its,w)\n",
    "\n",
    "perceptron_miscount_history = [miscount(v,x,y) for v in perceptron_w_history]\n",
    "\n",
    "num_its = np.arange(0,max_its+1,1)\n",
    "\n",
    "plt.plot(num_its,perceptron_cost_history)\n",
    "plt.title('Perceptron Cost History')\n",
    "plt.xlabel('Iterations')\n",
    "plt.ylabel('Cost History')\n",
    "plt.show()\n",
    "\n",
    "plt.plot(num_its,perceptron_miscount_history)\n",
    "plt.title('Perceptron Miscount History')\n",
    "plt.xlabel('Iterations')\n",
    "plt.ylabel('Cost History')\n",
    "plt.show()\n"
   ]
  },
  {
   "cell_type": "code",
   "execution_count": null,
   "metadata": {},
   "outputs": [],
   "source": [
    "min_norm_p_miscount = np.min(perceptron_miscount_history)\n",
    "\n",
    "norm_p_accuracy = accuracy(min_norm_p_miscount,y)\n",
    "\n",
    "print('the minimum miscounts of the normalized perceptron is:\\t',min_norm_p_miscount,\n",
    "      '\\n\\nthe normalized perceptron accuaracy is:\\t',norm_p_accuracy)"
   ]
  },
  {
   "cell_type": "markdown",
   "metadata": {},
   "source": [
    "## 3.3) \n",
    "Determine the confusion matrix for the optimal weights determined with the perceptron\n",
    "cost."
   ]
  },
  {
   "cell_type": "code",
   "execution_count": null,
   "metadata": {},
   "outputs": [],
   "source": [
    "index_p = best_wieght(perceptron_miscount_history)\n",
    "perceptron_confusion = confusion_matrix(perceptron_w_history,x,y,index_p)\n",
    "\n",
    "print('the optimal weight occurs at wieght index:\\t',index_p,\n",
    "      '\\n\\nthe confusion matrix with the optimal wieght is:\\n',perceptron_confusion)"
   ]
  },
  {
   "cell_type": "markdown",
   "metadata": {},
   "source": [
    "# Exercise 4"
   ]
  },
  {
   "cell_type": "code",
   "execution_count": 13,
   "metadata": {},
   "outputs": [],
   "source": [
    "# compute C linear combinations of input point, one per classifier\n",
    "def model(x,w):\n",
    "    a = w[0] + np.dot(x.T,w[1:])\n",
    "    return a.T\n",
    "\n",
    "lam = 10**-5  # our regularization paramter \n",
    "def multiclass_perceptron(w):        \n",
    "    # pre-compute predictions on all points\n",
    "    all_evals = model(x,w)\n",
    "    \n",
    "    # compute maximum across data points\n",
    "    a = np.max(all_evals,axis = 0)    \n",
    "\n",
    "    # compute cost in compact form using numpy broadcasting\n",
    "    b = all_evals[y.astype(int).flatten(),np.arange(np.size(y))]\n",
    "    cost = np.sum(a - b)\n",
    "    \n",
    "    # add regularizer\n",
    "    cost = cost + lam*np.linalg.norm(w[1:,:],'fro')**2\n",
    "    \n",
    "    # return average\n",
    "    return cost/float(np.size(y))"
   ]
  },
  {
   "cell_type": "code",
   "execution_count": 14,
   "metadata": {},
   "outputs": [],
   "source": [
    "# load in dataset\n",
    "data = np.loadtxt(datapath + '3class_data.csv',delimiter = ',')\n",
    "\n",
    "# get input/output pairs\n",
    "x = data[:-1,:]\n",
    "y = data[-1:,:] "
   ]
  },
  {
   "cell_type": "markdown",
   "metadata": {},
   "source": [
    "## 4.1) \n",
    "Use the multi-class perceptron cost function to fit a model using gradient descent with\n",
    "max its=1000, and a random starting vector w = 0.1*np.random.randn(3,3) and alpha =\n",
    "0.1. Plot the cost function history versus the number of iterations. Can you achieve as good\n",
    "a classification as shown in Fig. 7.9 in the book ?\n"
   ]
  },
  {
   "cell_type": "code",
   "execution_count": 17,
   "metadata": {},
   "outputs": [
    {
     "data": {
      "image/png": "[encoded data removed]",
      "text/plain": [
       "<Figure size 1080x720 with 1 Axes>"
      ]
     },
     "metadata": {
      "needs_background": "light"
     },
     "output_type": "display_data"
    }
   ],
   "source": [
    "max_its = 1000\n",
    "w =  0.1*np.random.randn(3,3) \n",
    "alpha = 0.1\n",
    "\n",
    "multperc_w_history , multperc_cost_history = gradient_descent(multiclass_perceptron,alpha,max_its,w)\n",
    "\n",
    "num_its = np.arange(0,max_its+1,1)\n",
    "\n",
    "plt.plot(num_its,multperc_cost_history)\n",
    "plt.title('Multiclass Perceptron Cost History')\n",
    "plt.xlabel('Iterations')\n",
    "plt.ylabel('Cost History')\n",
    "plt.show()\n"
   ]
  },
  {
   "cell_type": "markdown",
   "metadata": {},
   "source": [
    "## 4.2)\n",
    "Plot the data in the plane along with the decision boundaries. You should get something\n",
    "similar but not idetical to what is in the book byt Watt et al.\n"
   ]
  },
  {
   "cell_type": "code",
   "execution_count": 18,
   "metadata": {},
   "outputs": [
    {
     "data": {
      "image/png": "[encoded data removed]",
      "text/plain": [
       "<Figure size 648x288 with 2 Axes>"
      ]
     },
     "metadata": {},
     "output_type": "display_data"
    }
   ],
   "source": [
    "from mlrefined_libraries import superlearn_library as superlearn\n",
    "from mlrefined_libraries import math_optimization_library as optlib\n",
    "optimizers = optlib.optimizers\n",
    "classif_plotter = superlearn.multi_lin_classification_demo\n",
    "cost_lib = superlearn.cost_functions\n",
    "normalizers = superlearn.normalizers \n",
    "\n",
    "\n",
    "max_its = 1000\n",
    "w =  0.1*np.random.randn(3,3) \n",
    "alpha = 0.1\n",
    "\n",
    "multperc_w_history , multperc_cost_history = gradient_descent(multiclass_perceptron,alpha,max_its,w)\n",
    "\n",
    "num_its = np.arange(0,max_its+1,1)\n",
    "\n",
    "#demo = superlearn.ova_illustrator.Visualizer(data)\n",
    "#demo.show_dataset()\n",
    "demo2 = superlearn.multiclass_illustrator.Visualizer(data)\n",
    "demo2.show_complete_coloring(multperc_w_history, cost = multperc_cost_history)"
   ]
  },
  {
   "cell_type": "code",
   "execution_count": null,
   "metadata": {},
   "outputs": [],
   "source": []
  },
  {
   "cell_type": "code",
   "execution_count": null,
   "metadata": {},
   "outputs": [],
   "source": []
  }
 ],
 "metadata": {
  "kernelspec": {
   "display_name": "Python 3 (ipykernel)",
   "language": "python",
   "name": "python3"
  },
  "language_info": {
   "codemirror_mode": {
    "name": "ipython",
    "version": 3
   },
   "file_extension": ".py",
   "mimetype": "text/x-python",
   "name": "python",
   "nbconvert_exporter": "python",
   "pygments_lexer": "ipython3",
   "version": "3.9.7"
  }
 },
 "nbformat": 4,
 "nbformat_minor": 4
}
